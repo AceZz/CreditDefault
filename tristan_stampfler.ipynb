{
 "cells": [
  {
   "cell_type": "markdown",
   "metadata": {},
   "source": [
    "# Assignement for course ML2"
   ]
  },
  {
   "cell_type": "markdown",
   "metadata": {},
   "source": [
    "Students: Tristan STAMPFLER and Thomas CARTA"
   ]
  },
  {
   "cell_type": "markdown",
   "metadata": {},
   "source": [
    "## Table of contents"
   ]
  },
  {
   "cell_type": "markdown",
   "metadata": {},
   "source": [
    "### 1) Exploration of the dataset\n",
    "### 2) Data cleaning\n",
    "### 3) Feature engineering\n",
    "### 4) Feature selection\n",
    "### 5) Metric definition\n",
    "### 6) Various prediction models\n",
    "### 7) Conclusion"
   ]
  },
  {
   "cell_type": "markdown",
   "metadata": {},
   "source": [
    "## 1) Exploration of the dataset"
   ]
  },
  {
   "cell_type": "markdown",
   "metadata": {},
   "source": [
    "Preliminary exploration of the dataset is necessary to determine which field we can use."
   ]
  },
  {
   "cell_type": "code",
   "execution_count": 1,
   "metadata": {
    "pycharm": {
     "is_executing": false
    }
   },
   "outputs": [],
   "source": [
    "import numpy as np\n",
    "import pandas as pd\n",
    "import matplotlib.pyplot as plt"
   ]
  },
  {
   "cell_type": "code",
   "execution_count": 2,
   "metadata": {
    "pycharm": {
     "is_executing": false
    },
    "scrolled": true
   },
   "outputs": [],
   "source": [
    "df = pd.read_csv(\"data/CreditTraining.csv\")"
   ]
  },
  {
   "cell_type": "code",
   "execution_count": 3,
   "metadata": {
    "pycharm": {
     "is_executing": false
    },
    "scrolled": false
   },
   "outputs": [
    {
     "data": {
      "text/html": [
       "<div>\n",
       "<style scoped>\n",
       "    .dataframe tbody tr th:only-of-type {\n",
       "        vertical-align: middle;\n",
       "    }\n",
       "\n",
       "    .dataframe tbody tr th {\n",
       "        vertical-align: top;\n",
       "    }\n",
       "\n",
       "    .dataframe thead th {\n",
       "        text-align: right;\n",
       "    }\n",
       "</style>\n",
       "<table border=\"1\" class=\"dataframe\">\n",
       "  <thead>\n",
       "    <tr style=\"text-align: right;\">\n",
       "      <th></th>\n",
       "      <th>Id_Customer</th>\n",
       "      <th>Y</th>\n",
       "      <th>Customer_Type</th>\n",
       "      <th>BirthDate</th>\n",
       "      <th>Customer_Open_Date</th>\n",
       "      <th>P_Client</th>\n",
       "      <th>Educational_Level</th>\n",
       "      <th>Marital_Status</th>\n",
       "      <th>Number_Of_Dependant</th>\n",
       "      <th>Years_At_Residence</th>\n",
       "      <th>Net_Annual_Income</th>\n",
       "      <th>Years_At_Business</th>\n",
       "      <th>Prod_Sub_Category</th>\n",
       "      <th>Prod_Decision_Date</th>\n",
       "      <th>Source</th>\n",
       "      <th>Type_Of_Residence</th>\n",
       "      <th>Nb_Of_Products</th>\n",
       "      <th>Prod_Closed_Date</th>\n",
       "      <th>Prod_Category</th>\n",
       "    </tr>\n",
       "  </thead>\n",
       "  <tbody>\n",
       "    <tr>\n",
       "      <th>0</th>\n",
       "      <td>7440</td>\n",
       "      <td>0</td>\n",
       "      <td>Non Existing Client</td>\n",
       "      <td>07/08/1977</td>\n",
       "      <td>13/02/2012</td>\n",
       "      <td>NP_Client</td>\n",
       "      <td>University</td>\n",
       "      <td>Married</td>\n",
       "      <td>3.0</td>\n",
       "      <td>1</td>\n",
       "      <td>36</td>\n",
       "      <td>1.0</td>\n",
       "      <td>C</td>\n",
       "      <td>14/02/2012</td>\n",
       "      <td>Sales</td>\n",
       "      <td>Owned</td>\n",
       "      <td>1</td>\n",
       "      <td>NaN</td>\n",
       "      <td>B</td>\n",
       "    </tr>\n",
       "    <tr>\n",
       "      <th>1</th>\n",
       "      <td>573</td>\n",
       "      <td>0</td>\n",
       "      <td>Existing Client</td>\n",
       "      <td>13/06/1974</td>\n",
       "      <td>04/02/2009</td>\n",
       "      <td>P_Client</td>\n",
       "      <td>University</td>\n",
       "      <td>Married</td>\n",
       "      <td>0.0</td>\n",
       "      <td>12</td>\n",
       "      <td>18</td>\n",
       "      <td>2.0</td>\n",
       "      <td>C</td>\n",
       "      <td>30/06/2011</td>\n",
       "      <td>Sales</td>\n",
       "      <td>Parents</td>\n",
       "      <td>1</td>\n",
       "      <td>NaN</td>\n",
       "      <td>G</td>\n",
       "    </tr>\n",
       "    <tr>\n",
       "      <th>2</th>\n",
       "      <td>9194</td>\n",
       "      <td>0</td>\n",
       "      <td>Non Existing Client</td>\n",
       "      <td>07/11/1973</td>\n",
       "      <td>03/04/2012</td>\n",
       "      <td>NP_Client</td>\n",
       "      <td>University</td>\n",
       "      <td>Married</td>\n",
       "      <td>2.0</td>\n",
       "      <td>10</td>\n",
       "      <td>36</td>\n",
       "      <td>1.0</td>\n",
       "      <td>C</td>\n",
       "      <td>04/04/2012</td>\n",
       "      <td>Sales</td>\n",
       "      <td>Owned</td>\n",
       "      <td>1</td>\n",
       "      <td>NaN</td>\n",
       "      <td>B</td>\n",
       "    </tr>\n",
       "    <tr>\n",
       "      <th>3</th>\n",
       "      <td>3016</td>\n",
       "      <td>1</td>\n",
       "      <td>Existing Client</td>\n",
       "      <td>08/07/1982</td>\n",
       "      <td>25/08/2011</td>\n",
       "      <td>NP_Client</td>\n",
       "      <td>University</td>\n",
       "      <td>Married</td>\n",
       "      <td>3.0</td>\n",
       "      <td>3</td>\n",
       "      <td>36</td>\n",
       "      <td>1.0</td>\n",
       "      <td>C</td>\n",
       "      <td>07/09/2011</td>\n",
       "      <td>Sales</td>\n",
       "      <td>New rent</td>\n",
       "      <td>1</td>\n",
       "      <td>31/12/2012</td>\n",
       "      <td>L</td>\n",
       "    </tr>\n",
       "    <tr>\n",
       "      <th>4</th>\n",
       "      <td>6524</td>\n",
       "      <td>0</td>\n",
       "      <td>Non Existing Client</td>\n",
       "      <td>18/08/1953</td>\n",
       "      <td>10/01/2012</td>\n",
       "      <td>NP_Client</td>\n",
       "      <td>University</td>\n",
       "      <td>Married</td>\n",
       "      <td>2.0</td>\n",
       "      <td>1</td>\n",
       "      <td>36</td>\n",
       "      <td>1.0</td>\n",
       "      <td>C</td>\n",
       "      <td>11/01/2012</td>\n",
       "      <td>Sales</td>\n",
       "      <td>Owned</td>\n",
       "      <td>1</td>\n",
       "      <td>NaN</td>\n",
       "      <td>D</td>\n",
       "    </tr>\n",
       "  </tbody>\n",
       "</table>\n",
       "</div>"
      ],
      "text/plain": [
       "   Id_Customer  Y        Customer_Type   BirthDate Customer_Open_Date  \\\n",
       "0         7440  0  Non Existing Client  07/08/1977         13/02/2012   \n",
       "1          573  0      Existing Client  13/06/1974         04/02/2009   \n",
       "2         9194  0  Non Existing Client  07/11/1973         03/04/2012   \n",
       "3         3016  1      Existing Client  08/07/1982         25/08/2011   \n",
       "4         6524  0  Non Existing Client  18/08/1953         10/01/2012   \n",
       "\n",
       "    P_Client Educational_Level Marital_Status  Number_Of_Dependant  \\\n",
       "0  NP_Client        University        Married                  3.0   \n",
       "1   P_Client        University        Married                  0.0   \n",
       "2  NP_Client        University        Married                  2.0   \n",
       "3  NP_Client        University        Married                  3.0   \n",
       "4  NP_Client        University        Married                  2.0   \n",
       "\n",
       "   Years_At_Residence Net_Annual_Income  Years_At_Business Prod_Sub_Category  \\\n",
       "0                   1                36                1.0                 C   \n",
       "1                  12                18                2.0                 C   \n",
       "2                  10                36                1.0                 C   \n",
       "3                   3                36                1.0                 C   \n",
       "4                   1                36                1.0                 C   \n",
       "\n",
       "  Prod_Decision_Date Source Type_Of_Residence  Nb_Of_Products  \\\n",
       "0         14/02/2012  Sales             Owned               1   \n",
       "1         30/06/2011  Sales           Parents               1   \n",
       "2         04/04/2012  Sales             Owned               1   \n",
       "3         07/09/2011  Sales          New rent               1   \n",
       "4         11/01/2012  Sales             Owned               1   \n",
       "\n",
       "  Prod_Closed_Date Prod_Category  \n",
       "0              NaN             B  \n",
       "1              NaN             G  \n",
       "2              NaN             B  \n",
       "3       31/12/2012             L  \n",
       "4              NaN             D  "
      ]
     },
     "execution_count": 3,
     "metadata": {},
     "output_type": "execute_result"
    }
   ],
   "source": [
    "df.head()"
   ]
  },
  {
   "cell_type": "code",
   "execution_count": 4,
   "metadata": {
    "pycharm": {
     "is_executing": false
    }
   },
   "outputs": [
    {
     "data": {
      "text/html": [
       "<div>\n",
       "<style scoped>\n",
       "    .dataframe tbody tr th:only-of-type {\n",
       "        vertical-align: middle;\n",
       "    }\n",
       "\n",
       "    .dataframe tbody tr th {\n",
       "        vertical-align: top;\n",
       "    }\n",
       "\n",
       "    .dataframe thead th {\n",
       "        text-align: right;\n",
       "    }\n",
       "</style>\n",
       "<table border=\"1\" class=\"dataframe\">\n",
       "  <thead>\n",
       "    <tr style=\"text-align: right;\">\n",
       "      <th></th>\n",
       "      <th>Id_Customer</th>\n",
       "      <th>Y</th>\n",
       "      <th>Number_Of_Dependant</th>\n",
       "      <th>Years_At_Residence</th>\n",
       "      <th>Years_At_Business</th>\n",
       "      <th>Nb_Of_Products</th>\n",
       "    </tr>\n",
       "  </thead>\n",
       "  <tbody>\n",
       "    <tr>\n",
       "      <th>count</th>\n",
       "      <td>5380.000000</td>\n",
       "      <td>5380.000000</td>\n",
       "      <td>5378.000000</td>\n",
       "      <td>5380.000000</td>\n",
       "      <td>5378.000000</td>\n",
       "      <td>5380.000000</td>\n",
       "    </tr>\n",
       "    <tr>\n",
       "      <th>mean</th>\n",
       "      <td>4784.535688</td>\n",
       "      <td>0.073048</td>\n",
       "      <td>1.058572</td>\n",
       "      <td>12.626022</td>\n",
       "      <td>4.266270</td>\n",
       "      <td>1.089033</td>\n",
       "    </tr>\n",
       "    <tr>\n",
       "      <th>std</th>\n",
       "      <td>2781.436262</td>\n",
       "      <td>0.260240</td>\n",
       "      <td>1.339001</td>\n",
       "      <td>9.972164</td>\n",
       "      <td>7.225926</td>\n",
       "      <td>0.297587</td>\n",
       "    </tr>\n",
       "    <tr>\n",
       "      <th>min</th>\n",
       "      <td>1.000000</td>\n",
       "      <td>0.000000</td>\n",
       "      <td>0.000000</td>\n",
       "      <td>0.000000</td>\n",
       "      <td>0.000000</td>\n",
       "      <td>1.000000</td>\n",
       "    </tr>\n",
       "    <tr>\n",
       "      <th>25%</th>\n",
       "      <td>2368.500000</td>\n",
       "      <td>0.000000</td>\n",
       "      <td>0.000000</td>\n",
       "      <td>4.000000</td>\n",
       "      <td>1.000000</td>\n",
       "      <td>1.000000</td>\n",
       "    </tr>\n",
       "    <tr>\n",
       "      <th>50%</th>\n",
       "      <td>4762.500000</td>\n",
       "      <td>0.000000</td>\n",
       "      <td>0.000000</td>\n",
       "      <td>10.000000</td>\n",
       "      <td>1.000000</td>\n",
       "      <td>1.000000</td>\n",
       "    </tr>\n",
       "    <tr>\n",
       "      <th>75%</th>\n",
       "      <td>7180.250000</td>\n",
       "      <td>0.000000</td>\n",
       "      <td>2.000000</td>\n",
       "      <td>18.000000</td>\n",
       "      <td>4.000000</td>\n",
       "      <td>1.000000</td>\n",
       "    </tr>\n",
       "    <tr>\n",
       "      <th>max</th>\n",
       "      <td>9605.000000</td>\n",
       "      <td>1.000000</td>\n",
       "      <td>20.000000</td>\n",
       "      <td>70.000000</td>\n",
       "      <td>98.000000</td>\n",
       "      <td>3.000000</td>\n",
       "    </tr>\n",
       "  </tbody>\n",
       "</table>\n",
       "</div>"
      ],
      "text/plain": [
       "       Id_Customer            Y  Number_Of_Dependant  Years_At_Residence  \\\n",
       "count  5380.000000  5380.000000          5378.000000         5380.000000   \n",
       "mean   4784.535688     0.073048             1.058572           12.626022   \n",
       "std    2781.436262     0.260240             1.339001            9.972164   \n",
       "min       1.000000     0.000000             0.000000            0.000000   \n",
       "25%    2368.500000     0.000000             0.000000            4.000000   \n",
       "50%    4762.500000     0.000000             0.000000           10.000000   \n",
       "75%    7180.250000     0.000000             2.000000           18.000000   \n",
       "max    9605.000000     1.000000            20.000000           70.000000   \n",
       "\n",
       "       Years_At_Business  Nb_Of_Products  \n",
       "count        5378.000000     5380.000000  \n",
       "mean            4.266270        1.089033  \n",
       "std             7.225926        0.297587  \n",
       "min             0.000000        1.000000  \n",
       "25%             1.000000        1.000000  \n",
       "50%             1.000000        1.000000  \n",
       "75%             4.000000        1.000000  \n",
       "max            98.000000        3.000000  "
      ]
     },
     "execution_count": 4,
     "metadata": {},
     "output_type": "execute_result"
    }
   ],
   "source": [
    "df.describe()"
   ]
  },
  {
   "cell_type": "markdown",
   "metadata": {},
   "source": [
    "### Checking for NaNs"
   ]
  },
  {
   "cell_type": "code",
   "execution_count": 5,
   "metadata": {
    "pycharm": {
     "is_executing": false
    }
   },
   "outputs": [
    {
     "data": {
      "text/plain": [
       "Id_Customer               0\n",
       "Y                         0\n",
       "Customer_Type             0\n",
       "BirthDate                 0\n",
       "Customer_Open_Date        0\n",
       "P_Client                  0\n",
       "Educational_Level         0\n",
       "Marital_Status            0\n",
       "Number_Of_Dependant       2\n",
       "Years_At_Residence        0\n",
       "Net_Annual_Income         2\n",
       "Years_At_Business         2\n",
       "Prod_Sub_Category         0\n",
       "Prod_Decision_Date        0\n",
       "Source                    0\n",
       "Type_Of_Residence         0\n",
       "Nb_Of_Products            0\n",
       "Prod_Closed_Date       4206\n",
       "Prod_Category             0\n",
       "dtype: int64"
      ]
     },
     "execution_count": 5,
     "metadata": {},
     "output_type": "execute_result"
    }
   ],
   "source": [
    "df.isna().sum()"
   ]
  },
  {
   "cell_type": "markdown",
   "metadata": {},
   "source": [
    "We can see have a lot of missing values for the field Prod_Closed_Date, and some for Number_Of_Dependant, Net_Annual_Income and Years_At_Business"
   ]
  },
  {
   "cell_type": "markdown",
   "metadata": {},
   "source": [
    "### Checking if Id_Customer is an unique key"
   ]
  },
  {
   "cell_type": "code",
   "execution_count": 6,
   "metadata": {
    "pycharm": {
     "is_executing": false
    }
   },
   "outputs": [
    {
     "name": "stdout",
     "output_type": "stream",
     "text": [
      "Id_Customer    True\n",
      "dtype: bool\n"
     ]
    }
   ],
   "source": [
    "print(df[['Id_Customer']].nunique() == len(df))"
   ]
  },
  {
   "cell_type": "markdown",
   "metadata": {},
   "source": [
    "Yes, Id_Customer is a unique key for this dataset"
   ]
  },
  {
   "cell_type": "markdown",
   "metadata": {},
   "source": [
    "### Practising on marital"
   ]
  },
  {
   "cell_type": "code",
   "execution_count": 7,
   "metadata": {
    "pycharm": {
     "is_executing": false
    }
   },
   "outputs": [
    {
     "data": {
      "text/plain": [
       "Married      4206\n",
       "Single       1046\n",
       "Widowed        64\n",
       "Divorced       63\n",
       "Separated       1\n",
       "Name: Marital_Status, dtype: int64"
      ]
     },
     "execution_count": 7,
     "metadata": {},
     "output_type": "execute_result"
    }
   ],
   "source": [
    "df_marital = df[['Id_Customer','Y','Marital_Status']]\n",
    "df_marital['Marital_Status'].value_counts()"
   ]
  },
  {
   "cell_type": "code",
   "execution_count": 8,
   "metadata": {
    "pycharm": {
     "is_executing": false
    }
   },
   "outputs": [
    {
     "data": {
      "text/plain": [
       "Marital_Status  Y\n",
       "Divorced        0    0.920635\n",
       "                1    0.079365\n",
       "Married         0    0.930813\n",
       "                1    0.069187\n",
       "Separated       0    1.000000\n",
       "Single          0    0.911090\n",
       "                1    0.088910\n",
       "Widowed         0    0.937500\n",
       "                1    0.062500\n",
       "Name: Y, dtype: float64"
      ]
     },
     "execution_count": 8,
     "metadata": {},
     "output_type": "execute_result"
    }
   ],
   "source": [
    "marital_grp = df_marital.groupby('Marital_Status')\n",
    "marital_grp['Y'].value_counts(normalize=True)"
   ]
  },
  {
   "cell_type": "code",
   "execution_count": 9,
   "metadata": {
    "pycharm": {
     "is_executing": false
    }
   },
   "outputs": [
    {
     "data": {
      "text/html": [
       "<div>\n",
       "<style scoped>\n",
       "    .dataframe tbody tr th:only-of-type {\n",
       "        vertical-align: middle;\n",
       "    }\n",
       "\n",
       "    .dataframe tbody tr th {\n",
       "        vertical-align: top;\n",
       "    }\n",
       "\n",
       "    .dataframe thead th {\n",
       "        text-align: right;\n",
       "    }\n",
       "</style>\n",
       "<table border=\"1\" class=\"dataframe\">\n",
       "  <thead>\n",
       "    <tr style=\"text-align: right;\">\n",
       "      <th></th>\n",
       "      <th>Y</th>\n",
       "      <th>Id_Customer</th>\n",
       "    </tr>\n",
       "    <tr>\n",
       "      <th>Marital_Status</th>\n",
       "      <th></th>\n",
       "      <th></th>\n",
       "    </tr>\n",
       "  </thead>\n",
       "  <tbody>\n",
       "    <tr>\n",
       "      <th>Divorced</th>\n",
       "      <td>0.079365</td>\n",
       "      <td>63</td>\n",
       "    </tr>\n",
       "    <tr>\n",
       "      <th>Married</th>\n",
       "      <td>0.069187</td>\n",
       "      <td>4206</td>\n",
       "    </tr>\n",
       "    <tr>\n",
       "      <th>Separated</th>\n",
       "      <td>0.000000</td>\n",
       "      <td>1</td>\n",
       "    </tr>\n",
       "    <tr>\n",
       "      <th>Single</th>\n",
       "      <td>0.088910</td>\n",
       "      <td>1046</td>\n",
       "    </tr>\n",
       "    <tr>\n",
       "      <th>Widowed</th>\n",
       "      <td>0.062500</td>\n",
       "      <td>64</td>\n",
       "    </tr>\n",
       "  </tbody>\n",
       "</table>\n",
       "</div>"
      ],
      "text/plain": [
       "                       Y  Id_Customer\n",
       "Marital_Status                       \n",
       "Divorced        0.079365           63\n",
       "Married         0.069187         4206\n",
       "Separated       0.000000            1\n",
       "Single          0.088910         1046\n",
       "Widowed         0.062500           64"
      ]
     },
     "execution_count": 9,
     "metadata": {},
     "output_type": "execute_result"
    }
   ],
   "source": [
    "marital_grp.agg({'Y':'mean',\n",
    "                 'Id_Customer':'count'})"
   ]
  },
  {
   "cell_type": "markdown",
   "metadata": {},
   "source": [
    "## 2) Data cleaning"
   ]
  },
  {
   "cell_type": "markdown",
   "metadata": {},
   "source": [
    "We need to handle NaNs and select the columns we will use for our approaches"
   ]
  },
  {
   "cell_type": "code",
   "execution_count": 10,
   "metadata": {
    "pycharm": {
     "is_executing": false
    }
   },
   "outputs": [
    {
     "data": {
      "text/plain": [
       "Id_Customer               0\n",
       "Y                         0\n",
       "Customer_Type             0\n",
       "BirthDate                 0\n",
       "Customer_Open_Date        0\n",
       "P_Client                  0\n",
       "Educational_Level         0\n",
       "Marital_Status            0\n",
       "Number_Of_Dependant       2\n",
       "Years_At_Residence        0\n",
       "Net_Annual_Income         2\n",
       "Years_At_Business         2\n",
       "Prod_Sub_Category         0\n",
       "Prod_Decision_Date        0\n",
       "Source                    0\n",
       "Type_Of_Residence         0\n",
       "Nb_Of_Products            0\n",
       "Prod_Closed_Date       4206\n",
       "Prod_Category             0\n",
       "dtype: int64"
      ]
     },
     "execution_count": 10,
     "metadata": {},
     "output_type": "execute_result"
    }
   ],
   "source": [
    "df.isna().sum()"
   ]
  },
  {
   "cell_type": "markdown",
   "metadata": {},
   "source": [
    "### Removing NaNs"
   ]
  },
  {
   "cell_type": "markdown",
   "metadata": {},
   "source": [
    "We will remove NaNs in 2 ways. For Prod_Closed_Date there are too much values missing so we will just get rid of this field. For Number_Of_Dependant, Net_Annual_Income and Years_At_Business we just have a few values missing. Assuming the clients are iid, we can remove the rows with missing values."
   ]
  },
  {
   "cell_type": "code",
   "execution_count": 11,
   "metadata": {
    "pycharm": {
     "is_executing": false
    }
   },
   "outputs": [],
   "source": [
    "df = df.drop(\"Prod_Closed_Date\", axis=1)\n",
    "df = df.dropna()"
   ]
  },
  {
   "cell_type": "code",
   "execution_count": 12,
   "metadata": {
    "pycharm": {
     "is_executing": false
    },
    "scrolled": true
   },
   "outputs": [
    {
     "data": {
      "text/html": [
       "<div>\n",
       "<style scoped>\n",
       "    .dataframe tbody tr th:only-of-type {\n",
       "        vertical-align: middle;\n",
       "    }\n",
       "\n",
       "    .dataframe tbody tr th {\n",
       "        vertical-align: top;\n",
       "    }\n",
       "\n",
       "    .dataframe thead th {\n",
       "        text-align: right;\n",
       "    }\n",
       "</style>\n",
       "<table border=\"1\" class=\"dataframe\">\n",
       "  <thead>\n",
       "    <tr style=\"text-align: right;\">\n",
       "      <th></th>\n",
       "      <th>Id_Customer</th>\n",
       "      <th>Y</th>\n",
       "      <th>Customer_Type</th>\n",
       "      <th>BirthDate</th>\n",
       "      <th>Customer_Open_Date</th>\n",
       "      <th>P_Client</th>\n",
       "      <th>Educational_Level</th>\n",
       "      <th>Marital_Status</th>\n",
       "      <th>Number_Of_Dependant</th>\n",
       "      <th>Years_At_Residence</th>\n",
       "      <th>Net_Annual_Income</th>\n",
       "      <th>Years_At_Business</th>\n",
       "      <th>Prod_Sub_Category</th>\n",
       "      <th>Prod_Decision_Date</th>\n",
       "      <th>Source</th>\n",
       "      <th>Type_Of_Residence</th>\n",
       "      <th>Nb_Of_Products</th>\n",
       "      <th>Prod_Category</th>\n",
       "    </tr>\n",
       "  </thead>\n",
       "  <tbody>\n",
       "    <tr>\n",
       "      <th>0</th>\n",
       "      <td>7440</td>\n",
       "      <td>0</td>\n",
       "      <td>Non Existing Client</td>\n",
       "      <td>07/08/1977</td>\n",
       "      <td>13/02/2012</td>\n",
       "      <td>NP_Client</td>\n",
       "      <td>University</td>\n",
       "      <td>Married</td>\n",
       "      <td>3.0</td>\n",
       "      <td>1</td>\n",
       "      <td>36</td>\n",
       "      <td>1.0</td>\n",
       "      <td>C</td>\n",
       "      <td>14/02/2012</td>\n",
       "      <td>Sales</td>\n",
       "      <td>Owned</td>\n",
       "      <td>1</td>\n",
       "      <td>B</td>\n",
       "    </tr>\n",
       "    <tr>\n",
       "      <th>1</th>\n",
       "      <td>573</td>\n",
       "      <td>0</td>\n",
       "      <td>Existing Client</td>\n",
       "      <td>13/06/1974</td>\n",
       "      <td>04/02/2009</td>\n",
       "      <td>P_Client</td>\n",
       "      <td>University</td>\n",
       "      <td>Married</td>\n",
       "      <td>0.0</td>\n",
       "      <td>12</td>\n",
       "      <td>18</td>\n",
       "      <td>2.0</td>\n",
       "      <td>C</td>\n",
       "      <td>30/06/2011</td>\n",
       "      <td>Sales</td>\n",
       "      <td>Parents</td>\n",
       "      <td>1</td>\n",
       "      <td>G</td>\n",
       "    </tr>\n",
       "    <tr>\n",
       "      <th>2</th>\n",
       "      <td>9194</td>\n",
       "      <td>0</td>\n",
       "      <td>Non Existing Client</td>\n",
       "      <td>07/11/1973</td>\n",
       "      <td>03/04/2012</td>\n",
       "      <td>NP_Client</td>\n",
       "      <td>University</td>\n",
       "      <td>Married</td>\n",
       "      <td>2.0</td>\n",
       "      <td>10</td>\n",
       "      <td>36</td>\n",
       "      <td>1.0</td>\n",
       "      <td>C</td>\n",
       "      <td>04/04/2012</td>\n",
       "      <td>Sales</td>\n",
       "      <td>Owned</td>\n",
       "      <td>1</td>\n",
       "      <td>B</td>\n",
       "    </tr>\n",
       "    <tr>\n",
       "      <th>3</th>\n",
       "      <td>3016</td>\n",
       "      <td>1</td>\n",
       "      <td>Existing Client</td>\n",
       "      <td>08/07/1982</td>\n",
       "      <td>25/08/2011</td>\n",
       "      <td>NP_Client</td>\n",
       "      <td>University</td>\n",
       "      <td>Married</td>\n",
       "      <td>3.0</td>\n",
       "      <td>3</td>\n",
       "      <td>36</td>\n",
       "      <td>1.0</td>\n",
       "      <td>C</td>\n",
       "      <td>07/09/2011</td>\n",
       "      <td>Sales</td>\n",
       "      <td>New rent</td>\n",
       "      <td>1</td>\n",
       "      <td>L</td>\n",
       "    </tr>\n",
       "    <tr>\n",
       "      <th>4</th>\n",
       "      <td>6524</td>\n",
       "      <td>0</td>\n",
       "      <td>Non Existing Client</td>\n",
       "      <td>18/08/1953</td>\n",
       "      <td>10/01/2012</td>\n",
       "      <td>NP_Client</td>\n",
       "      <td>University</td>\n",
       "      <td>Married</td>\n",
       "      <td>2.0</td>\n",
       "      <td>1</td>\n",
       "      <td>36</td>\n",
       "      <td>1.0</td>\n",
       "      <td>C</td>\n",
       "      <td>11/01/2012</td>\n",
       "      <td>Sales</td>\n",
       "      <td>Owned</td>\n",
       "      <td>1</td>\n",
       "      <td>D</td>\n",
       "    </tr>\n",
       "  </tbody>\n",
       "</table>\n",
       "</div>"
      ],
      "text/plain": [
       "   Id_Customer  Y        Customer_Type   BirthDate Customer_Open_Date  \\\n",
       "0         7440  0  Non Existing Client  07/08/1977         13/02/2012   \n",
       "1          573  0      Existing Client  13/06/1974         04/02/2009   \n",
       "2         9194  0  Non Existing Client  07/11/1973         03/04/2012   \n",
       "3         3016  1      Existing Client  08/07/1982         25/08/2011   \n",
       "4         6524  0  Non Existing Client  18/08/1953         10/01/2012   \n",
       "\n",
       "    P_Client Educational_Level Marital_Status  Number_Of_Dependant  \\\n",
       "0  NP_Client        University        Married                  3.0   \n",
       "1   P_Client        University        Married                  0.0   \n",
       "2  NP_Client        University        Married                  2.0   \n",
       "3  NP_Client        University        Married                  3.0   \n",
       "4  NP_Client        University        Married                  2.0   \n",
       "\n",
       "   Years_At_Residence Net_Annual_Income  Years_At_Business Prod_Sub_Category  \\\n",
       "0                   1                36                1.0                 C   \n",
       "1                  12                18                2.0                 C   \n",
       "2                  10                36                1.0                 C   \n",
       "3                   3                36                1.0                 C   \n",
       "4                   1                36                1.0                 C   \n",
       "\n",
       "  Prod_Decision_Date Source Type_Of_Residence  Nb_Of_Products Prod_Category  \n",
       "0         14/02/2012  Sales             Owned               1             B  \n",
       "1         30/06/2011  Sales           Parents               1             G  \n",
       "2         04/04/2012  Sales             Owned               1             B  \n",
       "3         07/09/2011  Sales          New rent               1             L  \n",
       "4         11/01/2012  Sales             Owned               1             D  "
      ]
     },
     "execution_count": 12,
     "metadata": {},
     "output_type": "execute_result"
    }
   ],
   "source": [
    "df = df.reset_index(drop=True)\n",
    "df.isna().sum()\n",
    "df.head()"
   ]
  },
  {
   "cell_type": "markdown",
   "metadata": {},
   "source": [
    "## Replace some object type with float"
   ]
  },
  {
   "cell_type": "code",
   "execution_count": 13,
   "metadata": {
    "pycharm": {
     "is_executing": false
    }
   },
   "outputs": [],
   "source": [
    "df['Net_Annual_Income'] = df['Net_Annual_Income'].str.replace(',','.').astype(float)"
   ]
  },
  {
   "cell_type": "markdown",
   "metadata": {},
   "source": [
    "## 3) Feature engineering"
   ]
  },
  {
   "cell_type": "markdown",
   "metadata": {},
   "source": [
    "We create some features from the fields we have in our dataset.\n",
    "<br>\n",
    "We compute here for instance the age of the client. We then get rid of obsolete fields."
   ]
  },
  {
   "cell_type": "code",
   "execution_count": 14,
   "metadata": {
    "pycharm": {
     "is_executing": false
    }
   },
   "outputs": [],
   "source": [
    "df['Age'] = (pd.Timestamp('2020-01-01 00:00:00.000000') - pd.to_datetime(df['BirthDate'])).dt.days / 365.25\n",
    "df = df.drop('BirthDate', axis=1)"
   ]
  },
  {
   "cell_type": "markdown",
   "metadata": {},
   "source": [
    "## 4) Feature selection"
   ]
  },
  {
   "cell_type": "markdown",
   "metadata": {},
   "source": [
    "We select all features"
   ]
  },
  {
   "cell_type": "code",
   "execution_count": 15,
   "metadata": {
    "pycharm": {
     "is_executing": false
    }
   },
   "outputs": [
    {
     "data": {
      "text/html": [
       "<div>\n",
       "<style scoped>\n",
       "    .dataframe tbody tr th:only-of-type {\n",
       "        vertical-align: middle;\n",
       "    }\n",
       "\n",
       "    .dataframe tbody tr th {\n",
       "        vertical-align: top;\n",
       "    }\n",
       "\n",
       "    .dataframe thead th {\n",
       "        text-align: right;\n",
       "    }\n",
       "</style>\n",
       "<table border=\"1\" class=\"dataframe\">\n",
       "  <thead>\n",
       "    <tr style=\"text-align: right;\">\n",
       "      <th></th>\n",
       "      <th>Id_Customer</th>\n",
       "      <th>Y</th>\n",
       "      <th>Customer_Type</th>\n",
       "      <th>Customer_Open_Date</th>\n",
       "      <th>P_Client</th>\n",
       "      <th>Educational_Level</th>\n",
       "      <th>Marital_Status</th>\n",
       "      <th>Number_Of_Dependant</th>\n",
       "      <th>Years_At_Residence</th>\n",
       "      <th>Net_Annual_Income</th>\n",
       "      <th>Years_At_Business</th>\n",
       "      <th>Prod_Sub_Category</th>\n",
       "      <th>Prod_Decision_Date</th>\n",
       "      <th>Source</th>\n",
       "      <th>Type_Of_Residence</th>\n",
       "      <th>Nb_Of_Products</th>\n",
       "      <th>Prod_Category</th>\n",
       "      <th>Age</th>\n",
       "    </tr>\n",
       "  </thead>\n",
       "  <tbody>\n",
       "    <tr>\n",
       "      <th>0</th>\n",
       "      <td>7440</td>\n",
       "      <td>0</td>\n",
       "      <td>Non Existing Client</td>\n",
       "      <td>13/02/2012</td>\n",
       "      <td>NP_Client</td>\n",
       "      <td>University</td>\n",
       "      <td>Married</td>\n",
       "      <td>3.0</td>\n",
       "      <td>1</td>\n",
       "      <td>36.0</td>\n",
       "      <td>1.0</td>\n",
       "      <td>C</td>\n",
       "      <td>14/02/2012</td>\n",
       "      <td>Sales</td>\n",
       "      <td>Owned</td>\n",
       "      <td>1</td>\n",
       "      <td>B</td>\n",
       "      <td>42.483231</td>\n",
       "    </tr>\n",
       "    <tr>\n",
       "      <th>1</th>\n",
       "      <td>573</td>\n",
       "      <td>0</td>\n",
       "      <td>Existing Client</td>\n",
       "      <td>04/02/2009</td>\n",
       "      <td>P_Client</td>\n",
       "      <td>University</td>\n",
       "      <td>Married</td>\n",
       "      <td>0.0</td>\n",
       "      <td>12</td>\n",
       "      <td>18.0</td>\n",
       "      <td>2.0</td>\n",
       "      <td>C</td>\n",
       "      <td>30/06/2011</td>\n",
       "      <td>Sales</td>\n",
       "      <td>Parents</td>\n",
       "      <td>1</td>\n",
       "      <td>G</td>\n",
       "      <td>45.552361</td>\n",
       "    </tr>\n",
       "    <tr>\n",
       "      <th>2</th>\n",
       "      <td>9194</td>\n",
       "      <td>0</td>\n",
       "      <td>Non Existing Client</td>\n",
       "      <td>03/04/2012</td>\n",
       "      <td>NP_Client</td>\n",
       "      <td>University</td>\n",
       "      <td>Married</td>\n",
       "      <td>2.0</td>\n",
       "      <td>10</td>\n",
       "      <td>36.0</td>\n",
       "      <td>1.0</td>\n",
       "      <td>C</td>\n",
       "      <td>04/04/2012</td>\n",
       "      <td>Sales</td>\n",
       "      <td>Owned</td>\n",
       "      <td>1</td>\n",
       "      <td>B</td>\n",
       "      <td>46.475017</td>\n",
       "    </tr>\n",
       "    <tr>\n",
       "      <th>3</th>\n",
       "      <td>3016</td>\n",
       "      <td>1</td>\n",
       "      <td>Existing Client</td>\n",
       "      <td>25/08/2011</td>\n",
       "      <td>NP_Client</td>\n",
       "      <td>University</td>\n",
       "      <td>Married</td>\n",
       "      <td>3.0</td>\n",
       "      <td>3</td>\n",
       "      <td>36.0</td>\n",
       "      <td>1.0</td>\n",
       "      <td>C</td>\n",
       "      <td>07/09/2011</td>\n",
       "      <td>Sales</td>\n",
       "      <td>New rent</td>\n",
       "      <td>1</td>\n",
       "      <td>L</td>\n",
       "      <td>37.401780</td>\n",
       "    </tr>\n",
       "    <tr>\n",
       "      <th>4</th>\n",
       "      <td>6524</td>\n",
       "      <td>0</td>\n",
       "      <td>Non Existing Client</td>\n",
       "      <td>10/01/2012</td>\n",
       "      <td>NP_Client</td>\n",
       "      <td>University</td>\n",
       "      <td>Married</td>\n",
       "      <td>2.0</td>\n",
       "      <td>1</td>\n",
       "      <td>36.0</td>\n",
       "      <td>1.0</td>\n",
       "      <td>C</td>\n",
       "      <td>11/01/2012</td>\n",
       "      <td>Sales</td>\n",
       "      <td>Owned</td>\n",
       "      <td>1</td>\n",
       "      <td>D</td>\n",
       "      <td>66.370979</td>\n",
       "    </tr>\n",
       "  </tbody>\n",
       "</table>\n",
       "</div>"
      ],
      "text/plain": [
       "   Id_Customer  Y        Customer_Type Customer_Open_Date   P_Client  \\\n",
       "0         7440  0  Non Existing Client         13/02/2012  NP_Client   \n",
       "1          573  0      Existing Client         04/02/2009   P_Client   \n",
       "2         9194  0  Non Existing Client         03/04/2012  NP_Client   \n",
       "3         3016  1      Existing Client         25/08/2011  NP_Client   \n",
       "4         6524  0  Non Existing Client         10/01/2012  NP_Client   \n",
       "\n",
       "  Educational_Level Marital_Status  Number_Of_Dependant  Years_At_Residence  \\\n",
       "0        University        Married                  3.0                   1   \n",
       "1        University        Married                  0.0                  12   \n",
       "2        University        Married                  2.0                  10   \n",
       "3        University        Married                  3.0                   3   \n",
       "4        University        Married                  2.0                   1   \n",
       "\n",
       "   Net_Annual_Income  Years_At_Business Prod_Sub_Category Prod_Decision_Date  \\\n",
       "0               36.0                1.0                 C         14/02/2012   \n",
       "1               18.0                2.0                 C         30/06/2011   \n",
       "2               36.0                1.0                 C         04/04/2012   \n",
       "3               36.0                1.0                 C         07/09/2011   \n",
       "4               36.0                1.0                 C         11/01/2012   \n",
       "\n",
       "  Source Type_Of_Residence  Nb_Of_Products Prod_Category        Age  \n",
       "0  Sales             Owned               1             B  42.483231  \n",
       "1  Sales           Parents               1             G  45.552361  \n",
       "2  Sales             Owned               1             B  46.475017  \n",
       "3  Sales          New rent               1             L  37.401780  \n",
       "4  Sales             Owned               1             D  66.370979  "
      ]
     },
     "execution_count": 15,
     "metadata": {},
     "output_type": "execute_result"
    }
   ],
   "source": [
    "df.head()"
   ]
  },
  {
   "cell_type": "code",
   "execution_count": 16,
   "metadata": {
    "pycharm": {
     "is_executing": false
    }
   },
   "outputs": [
    {
     "data": {
      "text/plain": [
       "Id_Customer              int64\n",
       "Y                        int64\n",
       "Customer_Type           object\n",
       "Customer_Open_Date      object\n",
       "P_Client                object\n",
       "Educational_Level       object\n",
       "Marital_Status          object\n",
       "Number_Of_Dependant    float64\n",
       "Years_At_Residence       int64\n",
       "Net_Annual_Income      float64\n",
       "Years_At_Business      float64\n",
       "Prod_Sub_Category       object\n",
       "Prod_Decision_Date      object\n",
       "Source                  object\n",
       "Type_Of_Residence       object\n",
       "Nb_Of_Products           int64\n",
       "Prod_Category           object\n",
       "Age                    float64\n",
       "dtype: object"
      ]
     },
     "execution_count": 16,
     "metadata": {},
     "output_type": "execute_result"
    }
   ],
   "source": [
    "df.dtypes"
   ]
  },
  {
   "cell_type": "markdown",
   "metadata": {},
   "source": [
    "## 5) Metric definition"
   ]
  },
  {
   "cell_type": "code",
   "execution_count": 17,
   "metadata": {
    "pycharm": {
     "is_executing": false
    }
   },
   "outputs": [],
   "source": [
    "from IPython.display import Latex"
   ]
  },
  {
   "cell_type": "code",
   "execution_count": 18,
   "metadata": {
    "pycharm": {
     "is_executing": false
    }
   },
   "outputs": [
    {
     "data": {
      "text/plain": [
       "0.07294380349832527"
      ]
     },
     "execution_count": 18,
     "metadata": {},
     "output_type": "execute_result"
    }
   ],
   "source": [
    "df['Y'].mean()"
   ]
  },
  {
   "cell_type": "markdown",
   "metadata": {},
   "source": [
    "We need a consistent metric for our models to optimize. Since the dataset is heavily imbalanced (about 7.3% of 1 and 92.7% of 0) the accuracy is not by itself so relevant. Indeed a predictor that always predict 0 could get a 92.7% accuracy on this dataset). Furthermore, misclassifying a credit default as 0 is far more costly than misclassifying a credit that will be repaid as 1. But for the bank to earn some money we cannot reject all credit applications either."
   ]
  },
  {
   "cell_type": "markdown",
   "metadata": {},
   "source": [
    "We choose a target metric that maximizes the bank's profit per capita. We claim that this metric is:\n",
    "<br>\n",
    "<br>\n",
    "\\begin{equation}\n",
    "\\text{metric} = (1-\\alpha) i \\times \\text{true_negative_rate} + \\alpha \\times \\text{true_positive_rate} - \\alpha\n",
    "\\end{equation}\n",
    "\n",
    "With $i$ the annual interest rate and $\\alpha$ the proportion credit default among all credits."
   ]
  },
  {
   "cell_type": "markdown",
   "metadata": {},
   "source": [
    "__Demonstration__: <br>\n",
    "We firstly assume that the rows in the dataset are realisations of iid distributed variables reprensenting the population. We then assume that the bank only lends money for a one year period with no monthly payment and always lend the same amount. So after one year, either the bank gets back its money plus $i$ of interests or it faces a credit default and lost all of its money. \n",
    "<br>\n",
    "So if the bank uses a prediction algorithm to decide wether or not to give a credit to a customer and follows strictly the algorithm predictions, its total profit (normalized by the amount of the credit) on the population is:\n",
    "\\begin{equation}\n",
    "\\text{total profit} = i* TN - FN\n",
    "\\end{equation}"
   ]
  },
  {
   "cell_type": "markdown",
   "metadata": {},
   "source": [
    "Where we note $n$ the total number of individuals, $TP$ the number of true positives, $FP$ the number of false positives, $TN$ the number of true negatives and $FN$ the number of false negatives. According to our modelisation we have the following properties:\n",
    "<br>\n",
    "<br>\n",
    "\\begin{equation}\n",
    "n = TP + FP + TN + FN \\; \\text{(1)} \\text{,}\\;\\;\\;\\;\\; TP + FN = \\alpha n \\; \\text{(2)} \\;\\;\\; \\text{and}\\;\\;\\; TN + FP = (1-\\alpha)n \\; \\text{(3)}\n",
    "\\end{equation}"
   ]
  },
  {
   "cell_type": "markdown",
   "metadata": {},
   "source": [
    "We can next rewrite the total profit using (1): $\\text{total profit} = i*TN - n + TN + FP + TP$.\n",
    "<br>\n",
    "If we set our metric to be the profit per capita (including all individuals) we get:\n",
    "<br>\n",
    "<br>\n",
    "\\begin{equation}\n",
    "\\text{metric} = \\text{profit per capita} \\\\\n",
    "= \\frac{\\text{total profit}}{n} \\\\\n",
    "= i*\\frac{TN}{n} - 1 + \\frac{TN + FP}{n} + \\frac{TP}{n} \\\\\n",
    "= (1-\\alpha)i*\\frac{TN}{TN+FP} -1 + (1-\\alpha)\\frac{TN+FP}{TN+FP} + \\alpha\\frac{TP}{TP+FN} \\;\\;\\; \\text{using (2) and (3)} \\\\\n",
    "= (1-\\alpha)i*\\text{true negative rate} + \\alpha*\\text{true positive rate} - \\alpha\n",
    "\\end{equation}\n",
    "Which is exactly the metric stated above. <br>\n",
    "__End of demonstration__"
   ]
  },
  {
   "cell_type": "markdown",
   "metadata": {},
   "source": [
    "For the rest of the exercise, we set $i=5\\%$ for the annual interest rate and we estimate $\\alpha$ with the dataset."
   ]
  },
  {
   "cell_type": "code",
   "execution_count": 19,
   "metadata": {
    "pycharm": {
     "is_executing": false
    }
   },
   "outputs": [],
   "source": [
    "from sklearn.metrics import confusion_matrix"
   ]
  },
  {
   "cell_type": "code",
   "execution_count": 20,
   "metadata": {
    "pycharm": {
     "is_executing": false
    }
   },
   "outputs": [],
   "source": [
    "def metric(y, y_pred, i=0.05):\n",
    "    tn, fp, fn, tp = confusion_matrix(y, y_pred).ravel()\n",
    "    n = y_pred.size\n",
    "    alpha = (tp+fn)/n\n",
    "    metric = (1-alpha)*i*(tn/(tn+fp))+alpha*(tp/(tp+fn)) - alpha\n",
    "    return metric"
   ]
  },
  {
   "cell_type": "markdown",
   "metadata": {},
   "source": [
    "## 6) Various prediction models"
   ]
  },
  {
   "cell_type": "markdown",
   "metadata": {},
   "source": [
    "### a) Logistic regression on quantitative variables"
   ]
  },
  {
   "cell_type": "markdown",
   "metadata": {},
   "source": [
    "We try out Logistic regression on the quantitative variables"
   ]
  },
  {
   "cell_type": "code",
   "execution_count": 21,
   "metadata": {
    "pycharm": {
     "is_executing": false
    }
   },
   "outputs": [],
   "source": [
    "from sklearn.linear_model import LogisticRegression\n",
    "from sklearn.metrics import accuracy_score, precision_score, recall_score\n",
    "from sklearn.model_selection import train_test_split"
   ]
  },
  {
   "cell_type": "markdown",
   "metadata": {},
   "source": [
    "We split the data between a train set and a test. We use the train set to train the algorithm and to tune hyperparameters, and we use the test set to evaluate the algorithm performance."
   ]
  },
  {
   "cell_type": "code",
   "execution_count": 22,
   "metadata": {
    "pycharm": {
     "is_executing": true
    }
   },
   "outputs": [
    {
     "data": {
      "text/plain": [
       "LogisticRegression(C=1.0, class_weight=None, dual=False, fit_intercept=True,\n",
       "                   intercept_scaling=1, l1_ratio=None, max_iter=100,\n",
       "                   multi_class='auto', n_jobs=None, penalty='l2',\n",
       "                   random_state=None, solver='lbfgs', tol=0.0001, verbose=0,\n",
       "                   warm_start=False)"
      ]
     },
     "execution_count": 22,
     "metadata": {},
     "output_type": "execute_result"
    }
   ],
   "source": [
    "quant_cols = ['Number_Of_Dependant','Years_At_Residence','Net_Annual_Income','Years_At_Business','Nb_Of_Products','Age']\n",
    "X = df.loc[:,quant_cols]\n",
    "Y = df.loc[:,'Y']\n",
    "X_train, X_test, y_train, y_test = train_test_split(X, Y, test_size=0.4, random_state=42)\n",
    "clf = LogisticRegression()\n",
    "clf.fit(X_train, y_train)"
   ]
  },
  {
   "cell_type": "code",
   "execution_count": 23,
   "metadata": {
    "pycharm": {
     "is_executing": true
    }
   },
   "outputs": [
    {
     "name": "stdout",
     "output_type": "stream",
     "text": [
      "metric:-0.02716279069767441\n",
      "accuracy:0.9265116279069767, 1-mean_Y:0.9265116279069767, precision:0.0, recall:0.0\n"
     ]
    }
   ],
   "source": [
    "y_pred = clf.predict(X_test)\n",
    "accuracy = accuracy_score(y_test, y_pred)\n",
    "precision = precision_score(y_test, y_pred, zero_division=False)\n",
    "recall = recall_score(y_test, y_pred, zero_division=False)\n",
    "metric_score = metric(y_test, y_pred)\n",
    "print(f'metric:{metric_score}')\n",
    "print(f'accuracy:{accuracy}, 1-mean_Y:{1-np.average(y_test)}, precision:{precision}, recall:{recall}')"
   ]
  },
  {
   "cell_type": "markdown",
   "metadata": {},
   "source": [
    "As we can notice here, Y_pred is all zeros. The logistic regression has learned to predict only the majority class: 0. As the metric shows, with such prediction algorithm the bank is loosing money.\n",
    "<br>\n",
    "We can fix it with weighting the classes in the loss. \n",
    "<br>\n",
    "The “balanced” mode uses the values of y to automatically adjust weights inversely proportional to class frequencies in the input data as n_samples / (n_classes * np.bincount(y))."
   ]
  },
  {
   "cell_type": "code",
   "execution_count": 24,
   "metadata": {
    "pycharm": {
     "is_executing": true
    },
    "scrolled": true
   },
   "outputs": [
    {
     "data": {
      "text/plain": [
       "LogisticRegression(C=1.0, class_weight='balanced', dual=False,\n",
       "                   fit_intercept=True, intercept_scaling=1, l1_ratio=None,\n",
       "                   max_iter=100, multi_class='auto', n_jobs=None, penalty='l2',\n",
       "                   random_state=None, solver='lbfgs', tol=0.0001, verbose=0,\n",
       "                   warm_start=False)"
      ]
     },
     "execution_count": 24,
     "metadata": {},
     "output_type": "execute_result"
    }
   ],
   "source": [
    "clf_balanced = LogisticRegression(class_weight='balanced')\n",
    "clf_balanced.fit(X_train, y_train)"
   ]
  },
  {
   "cell_type": "code",
   "execution_count": 25,
   "metadata": {
    "pycharm": {
     "is_executing": true
    }
   },
   "outputs": [
    {
     "name": "stdout",
     "output_type": "stream",
     "text": [
      "metric:-0.008697674418604653\n",
      "accuracy:0.5093023255813953, 1-mean_Y:0.9265116279069767, precision:0.0827906976744186, recall:0.5632911392405063\n"
     ]
    }
   ],
   "source": [
    "y_pred = clf_balanced.predict(X_test)\n",
    "accuracy = accuracy_score(y_test, y_pred)\n",
    "precision = precision_score(y_test, y_pred)\n",
    "recall = recall_score(y_test, y_pred)\n",
    "metric_score = metric(y_test, y_pred)\n",
    "print(f'metric:{metric_score}')\n",
    "print(f'accuracy:{accuracy}, 1-mean_Y:{1-np.average(y_test)}, precision:{precision}, recall:{recall}')"
   ]
  },
  {
   "cell_type": "markdown",
   "metadata": {},
   "source": [
    "What we lost in accuracy we gained in recall, more credit default are being detected by the logistic regression. From now on we will use balanced loss for logistic regression. But the bank is still loosing money, we have to improve our model."
   ]
  },
  {
   "cell_type": "markdown",
   "metadata": {},
   "source": [
    "### b) Logistic regression on qualitative variables"
   ]
  },
  {
   "cell_type": "markdown",
   "metadata": {},
   "source": [
    "We use one-hot encoder to encode class variables so we can use them as well for the logistic regression. We will use OneHotEncoder from sklearn.preprocessing for this task."
   ]
  },
  {
   "cell_type": "code",
   "execution_count": 26,
   "metadata": {
    "pycharm": {
     "is_executing": true
    }
   },
   "outputs": [],
   "source": [
    "from sklearn.preprocessing import OneHotEncoder"
   ]
  },
  {
   "cell_type": "markdown",
   "metadata": {},
   "source": [
    "#### Demo with marital status"
   ]
  },
  {
   "cell_type": "code",
   "execution_count": 27,
   "metadata": {
    "pycharm": {
     "is_executing": true
    }
   },
   "outputs": [
    {
     "data": {
      "text/plain": [
       "array([[0., 1., 0., 0., 0.],\n",
       "       [0., 1., 0., 0., 0.],\n",
       "       [0., 1., 0., 0., 0.],\n",
       "       ...,\n",
       "       [1., 0., 0., 0., 0.],\n",
       "       [0., 1., 0., 0., 0.],\n",
       "       [0., 1., 0., 0., 0.]])"
      ]
     },
     "execution_count": 27,
     "metadata": {},
     "output_type": "execute_result"
    }
   ],
   "source": [
    "ohe = OneHotEncoder(sparse=False, handle_unknown='ignore')\n",
    "X = ohe.fit_transform(df[['Marital_Status']])\n",
    "X"
   ]
  },
  {
   "cell_type": "code",
   "execution_count": 28,
   "metadata": {
    "pycharm": {
     "is_executing": true
    }
   },
   "outputs": [
    {
     "data": {
      "text/plain": [
       "array(['x0_Divorced', 'x0_Married', 'x0_Separated', 'x0_Single',\n",
       "       'x0_Widowed'], dtype=object)"
      ]
     },
     "execution_count": 28,
     "metadata": {},
     "output_type": "execute_result"
    }
   ],
   "source": [
    "ohe.get_feature_names()"
   ]
  },
  {
   "cell_type": "code",
   "execution_count": 29,
   "metadata": {
    "pycharm": {
     "is_executing": true
    }
   },
   "outputs": [
    {
     "data": {
      "text/plain": [
       "LogisticRegression(C=1.0, class_weight='balanced', dual=False,\n",
       "                   fit_intercept=True, intercept_scaling=1, l1_ratio=None,\n",
       "                   max_iter=100, multi_class='auto', n_jobs=None, penalty='l2',\n",
       "                   random_state=None, solver='lbfgs', tol=0.0001, verbose=0,\n",
       "                   warm_start=False)"
      ]
     },
     "execution_count": 29,
     "metadata": {},
     "output_type": "execute_result"
    }
   ],
   "source": [
    "clf = LogisticRegression(class_weight='balanced')\n",
    "X_train, X_test, y_train, y_test = train_test_split(X, Y, test_size=0.4, random_state=42)\n",
    "clf.fit(X_train, y_train)"
   ]
  },
  {
   "cell_type": "code",
   "execution_count": 30,
   "metadata": {
    "pycharm": {
     "is_executing": true
    }
   },
   "outputs": [
    {
     "name": "stdout",
     "output_type": "stream",
     "text": [
      "metric:-0.017186046511627903\n",
      "accuracy:0.7637209302325582, 1-mean_Y:0.9265116279069767, precision:0.09490740740740741, recall:0.25949367088607594\n"
     ]
    }
   ],
   "source": [
    "y_pred = clf.predict(X_test)\n",
    "accuracy = accuracy_score(y_test, y_pred)\n",
    "precision = precision_score(y_test, y_pred)\n",
    "recall = recall_score(y_test, y_pred)\n",
    "metric_score = metric(y_test, y_pred)\n",
    "print(f'metric:{metric_score}')\n",
    "print(f'accuracy:{accuracy}, 1-mean_Y:{1-np.average(y_test)}, precision:{precision}, recall:{recall}')"
   ]
  },
  {
   "cell_type": "markdown",
   "metadata": {},
   "source": [
    "#### We can encode all strings columns"
   ]
  },
  {
   "cell_type": "code",
   "execution_count": 31,
   "metadata": {
    "pycharm": {
     "is_executing": true
    }
   },
   "outputs": [
    {
     "data": {
      "text/plain": [
       "Id_Customer              int64\n",
       "Y                        int64\n",
       "Customer_Type           object\n",
       "Customer_Open_Date      object\n",
       "P_Client                object\n",
       "Educational_Level       object\n",
       "Marital_Status          object\n",
       "Number_Of_Dependant    float64\n",
       "Years_At_Residence       int64\n",
       "Net_Annual_Income      float64\n",
       "Years_At_Business      float64\n",
       "Prod_Sub_Category       object\n",
       "Prod_Decision_Date      object\n",
       "Source                  object\n",
       "Type_Of_Residence       object\n",
       "Nb_Of_Products           int64\n",
       "Prod_Category           object\n",
       "Age                    float64\n",
       "dtype: object"
      ]
     },
     "execution_count": 31,
     "metadata": {},
     "output_type": "execute_result"
    }
   ],
   "source": [
    "df.dtypes"
   ]
  },
  {
   "cell_type": "code",
   "execution_count": 32,
   "metadata": {
    "pycharm": {
     "is_executing": true
    }
   },
   "outputs": [
    {
     "data": {
      "text/plain": [
       "(5374, 36)"
      ]
     },
     "execution_count": 32,
     "metadata": {},
     "output_type": "execute_result"
    }
   ],
   "source": [
    "string_cols = ['Customer_Type', 'P_Client', 'Educational_Level', 'Marital_Status', 'Prod_Sub_Category', 'Source', 'Type_Of_Residence', 'Prod_Category']\n",
    "X = ohe.fit_transform(df[string_cols])\n",
    "X.shape"
   ]
  },
  {
   "cell_type": "code",
   "execution_count": 33,
   "metadata": {
    "pycharm": {
     "is_executing": true
    }
   },
   "outputs": [
    {
     "name": "stderr",
     "output_type": "stream",
     "text": [
      "C:\\Users\\Tristan\\Anaconda3\\envs\\ML2\\lib\\site-packages\\sklearn\\linear_model\\_logistic.py:940: ConvergenceWarning: lbfgs failed to converge (status=1):\n",
      "STOP: TOTAL NO. of ITERATIONS REACHED LIMIT.\n",
      "\n",
      "Increase the number of iterations (max_iter) or scale the data as shown in:\n",
      "    https://scikit-learn.org/stable/modules/preprocessing.html\n",
      "Please also refer to the documentation for alternative solver options:\n",
      "    https://scikit-learn.org/stable/modules/linear_model.html#logistic-regression\n",
      "  extra_warning_msg=_LOGISTIC_SOLVER_CONVERGENCE_MSG)\n"
     ]
    },
    {
     "data": {
      "text/plain": [
       "LogisticRegression(C=1.0, class_weight='balanced', dual=False,\n",
       "                   fit_intercept=True, intercept_scaling=1, l1_ratio=None,\n",
       "                   max_iter=100, multi_class='auto', n_jobs=None, penalty='l2',\n",
       "                   random_state=None, solver='lbfgs', tol=0.0001, verbose=0,\n",
       "                   warm_start=False)"
      ]
     },
     "execution_count": 33,
     "metadata": {},
     "output_type": "execute_result"
    }
   ],
   "source": [
    "clf = LogisticRegression(class_weight='balanced')\n",
    "X_train, X_test, y_train, y_test = train_test_split(X, Y, test_size=0.4, random_state=42)\n",
    "clf.fit(X_train, y_train)"
   ]
  },
  {
   "cell_type": "code",
   "execution_count": 34,
   "metadata": {
    "pycharm": {
     "is_executing": true
    }
   },
   "outputs": [
    {
     "name": "stdout",
     "output_type": "stream",
     "text": [
      "metric:-0.004860465116279064\n",
      "accuracy:0.7893023255813953, 1-mean_Y:0.9265116279069767, precision:0.15456674473067916, recall:0.4177215189873418\n"
     ]
    }
   ],
   "source": [
    "y_pred = clf.predict(X_test)\n",
    "accuracy = accuracy_score(y_test, y_pred)\n",
    "precision = precision_score(y_test, y_pred)\n",
    "recall = recall_score(y_test, y_pred)\n",
    "metric_score = metric(y_test, y_pred)\n",
    "print(f'metric:{metric_score}')\n",
    "print(f'accuracy:{accuracy}, 1-mean_Y:{1-np.average(y_test)}, precision:{precision}, recall:{recall}')"
   ]
  },
  {
   "cell_type": "markdown",
   "metadata": {},
   "source": [
    "### c) Logistic regression on all variables"
   ]
  },
  {
   "cell_type": "markdown",
   "metadata": {},
   "source": [
    "We can concatenate the encoding of class variables to quantitative variables"
   ]
  },
  {
   "cell_type": "code",
   "execution_count": 35,
   "metadata": {
    "pycharm": {
     "is_executing": true
    },
    "scrolled": true
   },
   "outputs": [
    {
     "name": "stdout",
     "output_type": "stream",
     "text": [
      "(5374, 6) (5374, 36)\n",
      "(5374, 42)\n"
     ]
    }
   ],
   "source": [
    "X_quantitative = df.loc[:,quant_cols]\n",
    "X_class = ohe.fit_transform(df[string_cols])\n",
    "print(X_quantitative.shape, X_class.shape)\n",
    "X = np.concatenate((X_quantitative,X_class), axis=1)\n",
    "print(X.shape)"
   ]
  },
  {
   "cell_type": "code",
   "execution_count": 36,
   "metadata": {
    "pycharm": {
     "is_executing": true
    }
   },
   "outputs": [
    {
     "name": "stderr",
     "output_type": "stream",
     "text": [
      "C:\\Users\\Tristan\\Anaconda3\\envs\\ML2\\lib\\site-packages\\sklearn\\linear_model\\_logistic.py:940: ConvergenceWarning: lbfgs failed to converge (status=1):\n",
      "STOP: TOTAL NO. of ITERATIONS REACHED LIMIT.\n",
      "\n",
      "Increase the number of iterations (max_iter) or scale the data as shown in:\n",
      "    https://scikit-learn.org/stable/modules/preprocessing.html\n",
      "Please also refer to the documentation for alternative solver options:\n",
      "    https://scikit-learn.org/stable/modules/linear_model.html#logistic-regression\n",
      "  extra_warning_msg=_LOGISTIC_SOLVER_CONVERGENCE_MSG)\n"
     ]
    },
    {
     "data": {
      "text/plain": [
       "LogisticRegression(C=1.0, class_weight='balanced', dual=False,\n",
       "                   fit_intercept=True, intercept_scaling=1, l1_ratio=None,\n",
       "                   max_iter=100, multi_class='auto', n_jobs=None, penalty='l2',\n",
       "                   random_state=None, solver='lbfgs', tol=0.0001, verbose=0,\n",
       "                   warm_start=False)"
      ]
     },
     "execution_count": 36,
     "metadata": {},
     "output_type": "execute_result"
    }
   ],
   "source": [
    "clf = LogisticRegression(class_weight='balanced')\n",
    "X_train, X_test, y_train, y_test = train_test_split(X, Y, test_size=0.4, random_state=42)\n",
    "clf.fit(X_train, y_train)"
   ]
  },
  {
   "cell_type": "code",
   "execution_count": 37,
   "metadata": {
    "pycharm": {
     "is_executing": true
    }
   },
   "outputs": [
    {
     "name": "stdout",
     "output_type": "stream",
     "text": [
      "metric:-0.004930232558139527\n",
      "accuracy:0.6995348837209302, 1-mean_Y:0.9265116279069767, precision:0.11875, recall:0.4810126582278481\n"
     ]
    }
   ],
   "source": [
    "y_pred = clf.predict(X_test)\n",
    "accuracy = accuracy_score(y_test, y_pred)\n",
    "precision = precision_score(y_test, y_pred)\n",
    "recall = recall_score(y_test, y_pred)\n",
    "metric_score = metric(y_test, y_pred)\n",
    "print(f'metric:{metric_score}')\n",
    "print(f'accuracy:{accuracy}, 1-mean_Y:{1-np.average(y_test)}, precision:{precision}, recall:{recall}')"
   ]
  },
  {
   "cell_type": "markdown",
   "metadata": {},
   "source": [
    "### c-bis) Adjusting the threshold for the decision to achieve optimal metric"
   ]
  },
  {
   "cell_type": "markdown",
   "metadata": {
    "pycharm": {
     "name": "#%% md\n"
    }
   },
   "source": [
    "We can plot the ROC curve thanks to adjusments made to the threshold for decision. Indeed logistic regression gives a number between 0 and 1 representing the probability of the sample beeing positive. We can then play on the decision boundary to increase our True Positive Rate or to increase our True Negative Rate."
   ]
  },
  {
   "cell_type": "code",
   "execution_count": 38,
   "metadata": {
    "pycharm": {
     "is_executing": true
    }
   },
   "outputs": [],
   "source": [
    "from sklearn.metrics import roc_curve"
   ]
  },
  {
   "cell_type": "code",
   "execution_count": 39,
   "metadata": {
    "pycharm": {
     "is_executing": true
    }
   },
   "outputs": [],
   "source": [
    "y_pred_score = clf.predict_proba(X_test)[:,1]\n",
    "fpr, tpr, thresholds = roc_curve(y_test, y_pred_score)"
   ]
  },
  {
   "cell_type": "code",
   "execution_count": 40,
   "metadata": {
    "pycharm": {
     "is_executing": true,
     "name": "#%%\n"
    }
   },
   "outputs": [
    {
     "data": {
      "image/png": "[encoded data removed]",
      "text/plain": [
       "<Figure size 432x288 with 1 Axes>"
      ]
     },
     "metadata": {
      "needs_background": "light"
     },
     "output_type": "display_data"
    }
   ],
   "source": [
    "plt.figure()\n",
    "lw = 2\n",
    "plt.plot(fpr, tpr, color='darkorange',\n",
    "         lw=lw, label='ROC curve')\n",
    "plt.plot([0, 1], [0, 1], color='navy', lw=lw, linestyle='--')\n",
    "plt.xlim([0.0, 1.0])\n",
    "plt.ylim([0.0, 1.05])\n",
    "plt.xlabel('1 - True Negative Rate')\n",
    "plt.ylabel('True Positive Rate')\n",
    "plt.title('Receiver operating characteristic')\n",
    "plt.legend(loc=\"lower right\")\n",
    "plt.show()"
   ]
  },
  {
   "cell_type": "markdown",
   "metadata": {},
   "source": [
    "Note: $\\;\\; \\text{False Positive Rate} = 1 - \\text{True Negative Rate}$"
   ]
  },
  {
   "cell_type": "markdown",
   "metadata": {},
   "source": [
    "Finally we can look for the best metric across all thresholds (but we select it only using the train set):"
   ]
  },
  {
   "cell_type": "code",
   "execution_count": 41,
   "metadata": {},
   "outputs": [],
   "source": [
    "y_pred_score = clf.predict_proba(X_train)[:,1]\n",
    "fpr, tpr, thresholds = roc_curve(y_train, y_pred_score)"
   ]
  },
  {
   "cell_type": "code",
   "execution_count": 42,
   "metadata": {
    "pycharm": {
     "is_executing": true,
     "name": "#%%\n"
    }
   },
   "outputs": [
    {
     "name": "stdout",
     "output_type": "stream",
     "text": [
      "metric_best_train:0.009661910669975196, threshold_best:0.35908383268164146\n"
     ]
    }
   ],
   "source": [
    "metric_best = -1\n",
    "threshold_best = 0\n",
    "for threshold in thresholds:\n",
    "    y_pred =  (clf.predict_proba(X_train)[:,1] >= threshold).astype(int)\n",
    "    metric_score = metric(y_train, y_pred)\n",
    "    if metric_score >= metric_best:\n",
    "        metric_best = metric_score\n",
    "        threshold_best = threshold\n",
    "        \n",
    "\n",
    "print(f'metric_best_train:{metric_best}, threshold_best:{threshold_best}')"
   ]
  },
  {
   "cell_type": "markdown",
   "metadata": {},
   "source": [
    "__Conclusion for Logistic Regression__:\n",
    "<br>\n",
    "The optimal threshold to reject a credit application is about 0.36, which is lower than the default threshold of 0.5. Indeed, as stated in the beginning, misclassiying a credit default is more costly compared to misclasfying a credit that will be repaid. Our best logistic regression algorithm has the following metrics scores."
   ]
  },
  {
   "cell_type": "code",
   "execution_count": 43,
   "metadata": {
    "pycharm": {
     "is_executing": true,
     "name": "#%%\n"
    }
   },
   "outputs": [
    {
     "name": "stdout",
     "output_type": "stream",
     "text": [
      "metric:0.007627906976744189\n",
      "accuracy:0.3851162790697674, 1-mean_Y:0.9265116279069767, precision:0.09695290858725762, recall:0.8860759493670886\n"
     ]
    }
   ],
   "source": [
    "y_pred = (clf.predict_proba(X_test)[:,1] >= threshold_best).astype(int)\n",
    "accuracy = accuracy_score(y_test, y_pred)\n",
    "precision = precision_score(y_test, y_pred)\n",
    "recall = recall_score(y_test, y_pred)\n",
    "metric_score = metric(y_test, y_pred)\n",
    "print(f'metric:{metric_score}')\n",
    "print(f'accuracy:{accuracy}, 1-mean_Y:{1-np.average(y_test)}, precision:{precision}, recall:{recall}')"
   ]
  },
  {
   "cell_type": "markdown",
   "metadata": {},
   "source": [
    "As we can notice, an high recall is necessary (despite a low precision) to maximise the bank's profits. This comes with a fairly low accuracy because the bank has to be very cautious of credit default. In a further study, we could vary the interest rate $i$, which was set to $5\\%$ here, and observe how the metrics for the best algorithm would repond to it.\n",
    "<br> As $i$ increases, we would probably see the recall going down and the accuracy and the precision go up, as paid-back credits become more lucrative."
   ]
  },
  {
   "cell_type": "markdown",
   "metadata": {},
   "source": [
    "### d) Tree classification"
   ]
  },
  {
   "cell_type": "code",
   "execution_count": 44,
   "metadata": {
    "pycharm": {
     "is_executing": true
    }
   },
   "outputs": [],
   "source": [
    "from xgboost import XGBClassifier\n",
    "from sklearn.model_selection import train_test_split\n",
    "from sklearn.metrics import confusion_matrix\n",
    "from xgboost import plot_importance\n",
    "import matplotlib.pyplot as plt\n"
   ]
  },
  {
   "cell_type": "markdown",
   "metadata": {},
   "source": [
    "We first compute a tree with general parameters then print the importance of features "
   ]
  },
  {
   "cell_type": "code",
   "execution_count": 45,
   "metadata": {
    "pycharm": {
     "is_executing": true
    }
   },
   "outputs": [
    {
     "name": "stdout",
     "output_type": "stream",
     "text": [
      "metric:-0.02187499999999999\n",
      "accuracy:0.9241071428571429, 1-mean_Y:0.9248511904761905, precision:0.47619047619047616, recall:0.09900990099009901\n"
     ]
    },
    {
     "data": {
      "image/png": "[encoded data removed]",
      "text/plain": [
       "<Figure size 432x288 with 1 Axes>"
      ]
     },
     "metadata": {
      "needs_background": "light"
     },
     "output_type": "display_data"
    }
   ],
   "source": [
    "X = np.concatenate((X_quantitative,X_class), axis=1)\n",
    "X_train, X_test, y_train, y_test = train_test_split(X, Y, test_size=0.25, random_state=42)\n",
    "y_train = y_train.to_numpy()\n",
    "y_test = y_test.to_numpy()\n",
    "\n",
    "model = XGBClassifier(learning_rate = 0.05, n_estimators=300, max_depth=8)\n",
    "model.fit(X_train, y_train)\n",
    "\n",
    "y_pred = model.predict(X_test)\n",
    "accuracy = accuracy_score(y_test, y_pred)\n",
    "precision = precision_score(y_test, y_pred)\n",
    "recall = recall_score(y_test, y_pred)\n",
    "metric_score = metric(y_test, y_pred)\n",
    "print(f'metric:{metric_score}')\n",
    "print(f'accuracy:{accuracy}, 1-mean_Y:{1-np.average(y_test)}, precision:{precision}, recall:{recall}')\n",
    "\n",
    "# plot feature importance\n",
    "plot_importance(model)\n",
    "#to_graphviz(model)\n",
    "plt.show()"
   ]
  },
  {
   "cell_type": "markdown",
   "metadata": {},
   "source": [
    "The quantitave figures (f0 to f5) are the most important features, the age is overall the most important one. The important disparity among the weights of the features entices us to elastic net penalisation $J(\\beta)=(1-\\alpha) || \\beta ||^{2} +\\alpha || \\beta||_{1}$ to get rid of not important features."
   ]
  },
  {
   "cell_type": "code",
   "execution_count": 46,
   "metadata": {
    "pycharm": {
     "is_executing": true
    }
   },
   "outputs": [
    {
     "name": "stdout",
     "output_type": "stream",
     "text": [
      "metric:-0.028385416666666663\n",
      "accuracy:0.9211309523809523, 1-mean_Y:0.9248511904761905, precision:0.14285714285714285, recall:0.009900990099009901\n"
     ]
    },
    {
     "data": {
      "image/png": "[encoded data removed]",
      "text/plain": [
       "<Figure size 432x288 with 1 Axes>"
      ]
     },
     "metadata": {
      "needs_background": "light"
     },
     "output_type": "display_data"
    }
   ],
   "source": [
    "X = df.loc[:,quant_cols]\n",
    "X = X.loc[:,['Age','Net_Annual_Income','Years_At_Residence','Years_At_Business']]\n",
    "\n",
    "X_train, X_test, y_train, y_test = train_test_split(X, Y, test_size=0.25, random_state=42)\n",
    "y_train = y_train.to_numpy()\n",
    "y_test = y_test.to_numpy()\n",
    "\n",
    "model = XGBClassifier(learning_rate = 0.05, n_estimators=300, max_depth=10, reg_alpha=0.5)\n",
    "model.fit(X_train, y_train)\n",
    "y_pred = model.predict(X_test)\n",
    "accuracy = accuracy_score(y_test, y_pred)\n",
    "precision = precision_score(y_test, y_pred)\n",
    "recall = recall_score(y_test, y_pred)\n",
    "metric_score = metric(y_test, y_pred)\n",
    "print(f'metric:{metric_score}')\n",
    "print(f'accuracy:{accuracy}, 1-mean_Y:{1-np.average(y_test)}, precision:{precision}, recall:{recall}')\n",
    "\n",
    "# plot feature importance\n",
    "plot_importance(model)\n",
    "\n",
    "plt.show()"
   ]
  },
  {
   "cell_type": "markdown",
   "metadata": {},
   "source": [
    "If we exclude the threshold for the classification we have 4 parameters to optimize:\n",
    "\n",
    "the learning rate $lr \\in [0.01, 0.09]$, \n",
    "\n",
    "the number of estimators $  \\in [\\![500;1500]\\!]  $,\n",
    "\n",
    "the coefficient $\\alpha$ for the L1 regularisation in the elastic net $ \\in ]0,1[$, \n",
    "\n",
    "the depth of the tree $ \\in [\\![4;8]\\!]   $\n",
    "\n",
    "The vast state space to explore prevent us to use exhaustive search of the best hyperparameters, we use stochastic research instead refering  to the paper ()"
   ]
  },
  {
   "cell_type": "code",
   "execution_count": 47,
   "metadata": {
    "pycharm": {
     "is_executing": true
    }
   },
   "outputs": [
    {
     "name": "stdout",
     "output_type": "stream",
     "text": [
      "done\n",
      " 0.00% loading...0\n",
      "lr:0.06700000000000005, n_estimators:674, max_depth:5, reg L1:0.6, metric:0.005023255813953492,threshold:0.00612\n",
      " 8.00% loading...4\n",
      "lr:0.06900000000000005, n_estimators:1037, max_depth:5, reg L1:0.9, metric:0.005511627906976749,threshold:0.0056099999999999995\n",
      " 12.00% loading...6\n",
      "lr:0.026000000000000016, n_estimators:1225, max_depth:6, reg L1:0.8, metric:0.005906976744186054,threshold:0.006869999999999999\n",
      " 98.00% loading..."
     ]
    }
   ],
   "source": [
    "ar=np.arange(0.01,0.09,0.0005)\n",
    "\n",
    "X = np.concatenate((X_quantitative,X_class), axis=1)\n",
    "X_train, X_test, y_train, y_test = train_test_split(X, Y, test_size=0.4, random_state=42)\n",
    "y_train = y_train.to_numpy()\n",
    "y_test = y_test.to_numpy()\n",
    "\n",
    "scale_pos_weight=y_train.size/y_train.sum()\n",
    "\n",
    "m_lr = -1\n",
    "m_n_estimators = -1\n",
    "m_max_depth = -1\n",
    "m_L1 = -1 \n",
    "max_metric=0\n",
    "\n",
    "thresholds_tree = np.arange(10**(-4),10**(-2),10**(-5))\n",
    "print('done')\n",
    "n_step=50 \n",
    "for j in range(n_step):\n",
    "    \n",
    "    #paramètres\n",
    "    lr = np.random.choice(ar)\n",
    "    n_estim = np.random.randint(500,1500)\n",
    "    m_depth = np.random.randint(4,8)\n",
    "    L1 = np.random.choice([0.1,0.2,0.3,0.4,0.5,0.6,0.7,0.8,0.9])\n",
    "    \n",
    "    model = XGBClassifier(learning_rate = lr, n_estimators=n_estim, max_depth=m_depth, reg_alpha=L1,scale_pos_weight=scale_pos_weight,objective='multi:softprob',num_class=2)\n",
    "    model.fit(X_train, y_train)\n",
    "    \n",
    "    y_pred = model.predict_proba(X_test)\n",
    "    \n",
    "    metric_best = -1\n",
    "    threshold_best = 0\n",
    "    for threshold in thresholds_tree:\n",
    "       \n",
    "        y_pred_tuning =  (y_pred[:,1] >= threshold).astype(int)\n",
    "        metric_score = metric(y_test, y_pred_tuning)\n",
    "        \n",
    "        if metric_score >= metric_best:\n",
    "            metric_best = metric_score\n",
    "            threshold_best = threshold\n",
    "\n",
    "    \n",
    "    print(\"\\r {:.2%} loading...\".format(j/n_step), end=\"\")\n",
    "    if max_metric < metric_best:\n",
    "        max_metric=metric_best\n",
    "        m_lr = lr\n",
    "        m_n_estimators =  n_estim\n",
    "        m_max_depth = m_depth\n",
    "        m_L1 = L1\n",
    "        print(j)\n",
    "        print(f'lr:{m_lr}, n_estimators:{m_n_estimators}, max_depth:{m_max_depth}, reg L1:{m_L1}, metric:{max_metric},threshold:{threshold_best}')\n"
   ]
  },
  {
   "cell_type": "markdown",
   "metadata": {},
   "source": [
    "If we test the select parameters on the test set we obtain:"
   ]
  },
  {
   "cell_type": "code",
   "execution_count": 48,
   "metadata": {
    "pycharm": {
     "is_executing": true
    },
    "scrolled": true
   },
   "outputs": [
    {
     "name": "stdout",
     "output_type": "stream",
     "text": [
      "lr:0.026000000000000016, n_estimators:1225, max_depth:6, reg L1:0.8, metric:0.005906976744186054,threshold:0.005399999999999999\n",
      "0.005488372093023247\n",
      "accuracy:0.28930232558139535, 1-mean_Y:0.9270561965016747, precision:0.08784596871239471, recall:0.9240506329113924\n"
     ]
    }
   ],
   "source": [
    "print(f'lr:{m_lr}, n_estimators:{m_n_estimators}, max_depth:{m_max_depth}, reg L1:{m_L1}, metric:{max_metric},threshold:{threshold_best}')\n",
    "model = XGBClassifier(learning_rate = m_lr, n_estimators=m_n_estimators, max_depth=m_max_depth, reg_alpha=m_L1,scale_pos_weight=100,objective='multi:softprob',num_class=2)\n",
    "model.fit(X_train, y_train)\n",
    "\n",
    "y_pred = model.predict_proba(X_test) \n",
    "y_pred = (y_pred[:,1]>= threshold_best).astype(int)\n",
    "\n",
    "metric_final = metric(y_test, y_pred)\n",
    "print(metric_final) \n",
    "\n",
    "accuracy = accuracy_score(y_test, y_pred)\n",
    "precision = precision_score(y_test, y_pred)\n",
    "recall = recall_score(y_test, y_pred)\n",
    "print(f'accuracy:{accuracy}, 1-mean_Y:{1-np.average(Y)}, precision:{precision}, recall:{recall}')"
   ]
  },
  {
   "cell_type": "markdown",
   "metadata": {},
   "source": [
    "As in the logistic regression the chosen metric has for consequence to give a high importance to the recall at the expense of the precision"
   ]
  },
  {
   "cell_type": "markdown",
   "metadata": {},
   "source": [
    "lr:0.026500000000000017, n_estimators:778, max_depth:7, reg L1:0.0, métrique:0.006674418604651164,threshold:0.005059999999999999\n",
    "0.005976744186046518\n",
    "accuracy:0.29023255813953486, 1-mean_Y:0.9270561965016747, precision:0.08844765342960288, recall:0.930379746835443"
   ]
  },
  {
   "cell_type": "markdown",
   "metadata": {},
   "source": [
    "### Deep Learning"
   ]
  },
  {
   "cell_type": "code",
   "execution_count": 49,
   "metadata": {
    "pycharm": {
     "is_executing": true
    }
   },
   "outputs": [],
   "source": [
    "import tensorflow as tf\n",
    "from tensorflow import keras"
   ]
  },
  {
   "cell_type": "markdown",
   "metadata": {},
   "source": [
    "We build our neural network using sigmoid function for the activation and drop out layer to reduce overfitting, we also use a normalisation layer to have a continuum of values between zero and one and thus easily separate the results with a threshold "
   ]
  },
  {
   "cell_type": "code",
   "execution_count": 50,
   "metadata": {
    "pycharm": {
     "is_executing": true
    }
   },
   "outputs": [],
   "source": [
    "model_deep = keras.Sequential([\n",
    "    keras.layers.Dense(128, activation='sigmoid'),\n",
    "    keras.layers.Dropout(0.2),\n",
    "    keras.layers.Dense(128, activation='sigmoid'),\n",
    "    keras.layers.Dropout(0.5),\n",
    "    keras.layers.BatchNormalization(),\n",
    "    keras.layers.Dense(2, activation= 'sigmoid')\n",
    "])\n"
   ]
  },
  {
   "cell_type": "code",
   "execution_count": 51,
   "metadata": {
    "pycharm": {
     "is_executing": true
    }
   },
   "outputs": [],
   "source": [
    "model_deep.compile(optimizer='adam',\n",
    "              loss=tf.keras.losses.SparseCategoricalCrossentropy(from_logits=True),\n",
    "              metrics=['accuracy',])\n"
   ]
  },
  {
   "cell_type": "code",
   "execution_count": 52,
   "metadata": {
    "pycharm": {
     "is_executing": true
    },
    "scrolled": true
   },
   "outputs": [
    {
     "name": "stdout",
     "output_type": "stream",
     "text": [
      "Train on 3224 samples\n",
      "Epoch 1/30\n",
      "3224/3224 [==============================] - 1s 188us/sample - loss: 0.6351 - accuracy: 0.6600\n",
      "Epoch 2/30\n",
      "3224/3224 [==============================] - 0s 41us/sample - loss: 0.4930 - accuracy: 0.8666\n",
      "Epoch 3/30\n",
      "3224/3224 [==============================] - 0s 41us/sample - loss: 0.4184 - accuracy: 0.9237\n",
      "Epoch 4/30\n",
      "3224/3224 [==============================] - 0s 41us/sample - loss: 0.3989 - accuracy: 0.9265\n",
      "Epoch 5/30\n",
      "3224/3224 [==============================] - 0s 41us/sample - loss: 0.3924 - accuracy: 0.9274\n",
      "Epoch 6/30\n",
      "3224/3224 [==============================] - 0s 43us/sample - loss: 0.3899 - accuracy: 0.9274\n",
      "Epoch 7/30\n",
      "3224/3224 [==============================] - 0s 48us/sample - loss: 0.3881 - accuracy: 0.9274\n",
      "Epoch 8/30\n",
      "3224/3224 [==============================] - 0s 41us/sample - loss: 0.3879 - accuracy: 0.9274\n",
      "Epoch 9/30\n",
      "3224/3224 [==============================] - 0s 41us/sample - loss: 0.3873 - accuracy: 0.9271\n",
      "Epoch 10/30\n",
      "3224/3224 [==============================] - 0s 41us/sample - loss: 0.3870 - accuracy: 0.9274\n",
      "Epoch 11/30\n",
      "3224/3224 [==============================] - 0s 40us/sample - loss: 0.3867 - accuracy: 0.9274\n",
      "Epoch 12/30\n",
      "3224/3224 [==============================] - 0s 40us/sample - loss: 0.3866 - accuracy: 0.9274\n",
      "Epoch 13/30\n",
      "3224/3224 [==============================] - 0s 39us/sample - loss: 0.3864 - accuracy: 0.9274\n",
      "Epoch 14/30\n",
      "3224/3224 [==============================] - 0s 40us/sample - loss: 0.3864 - accuracy: 0.9274\n",
      "Epoch 15/30\n",
      "3224/3224 [==============================] - 0s 41us/sample - loss: 0.3862 - accuracy: 0.9274\n",
      "Epoch 16/30\n",
      "3224/3224 [==============================] - 0s 39us/sample - loss: 0.3862 - accuracy: 0.9274\n",
      "Epoch 17/30\n",
      "3224/3224 [==============================] - 0s 40us/sample - loss: 0.3861 - accuracy: 0.9274\n",
      "Epoch 18/30\n",
      "3224/3224 [==============================] - 0s 42us/sample - loss: 0.3861 - accuracy: 0.9274\n",
      "Epoch 19/30\n",
      "3224/3224 [==============================] - 0s 45us/sample - loss: 0.3861 - accuracy: 0.9274\n",
      "Epoch 20/30\n",
      "3224/3224 [==============================] - 0s 43us/sample - loss: 0.3860 - accuracy: 0.9274\n",
      "Epoch 21/30\n",
      "3224/3224 [==============================] - 0s 40us/sample - loss: 0.3860 - accuracy: 0.9274\n",
      "Epoch 22/30\n",
      "3224/3224 [==============================] - 0s 39us/sample - loss: 0.3860 - accuracy: 0.9274\n",
      "Epoch 23/30\n",
      "3224/3224 [==============================] - 0s 42us/sample - loss: 0.3860 - accuracy: 0.9274\n",
      "Epoch 24/30\n",
      "3224/3224 [==============================] - 0s 39us/sample - loss: 0.3860 - accuracy: 0.9274\n",
      "Epoch 25/30\n",
      "3224/3224 [==============================] - 0s 39us/sample - loss: 0.3860 - accuracy: 0.9274\n",
      "Epoch 26/30\n",
      "3224/3224 [==============================] - 0s 47us/sample - loss: 0.3859 - accuracy: 0.9274\n",
      "Epoch 27/30\n",
      "3224/3224 [==============================] - 0s 46us/sample - loss: 0.3859 - accuracy: 0.9274\n",
      "Epoch 28/30\n",
      "3224/3224 [==============================] - 0s 39us/sample - loss: 0.3859 - accuracy: 0.9274\n",
      "Epoch 29/30\n",
      "3224/3224 [==============================] - 0s 39us/sample - loss: 0.3859 - accuracy: 0.9274\n",
      "Epoch 30/30\n",
      "3224/3224 [==============================] - 0s 42us/sample - loss: 0.3859 - accuracy: 0.9274\n"
     ]
    },
    {
     "data": {
      "text/plain": [
       "<tensorflow.python.keras.callbacks.History at 0x2d4e1da9cc8>"
      ]
     },
     "execution_count": 52,
     "metadata": {},
     "output_type": "execute_result"
    }
   ],
   "source": [
    "model_deep.fit(X_train,y_train, epochs=30)"
   ]
  },
  {
   "cell_type": "code",
   "execution_count": 53,
   "metadata": {
    "pycharm": {
     "is_executing": true
    }
   },
   "outputs": [
    {
     "name": "stdout",
     "output_type": "stream",
     "text": [
      "4.844192e-06\n",
      "0.00010473545\n"
     ]
    },
    {
     "ename": "TypeError",
     "evalue": "'numpy.float64' object is not callable",
     "output_type": "error",
     "traceback": [
      "\u001b[1;31m---------------------------------------------------------------------------\u001b[0m",
      "\u001b[1;31mTypeError\u001b[0m                                 Traceback (most recent call last)",
      "\u001b[1;32m<ipython-input-53-64193781fe89>\u001b[0m in \u001b[0;36m<module>\u001b[1;34m\u001b[0m\n\u001b[0;32m     15\u001b[0m     \u001b[0my_pred_tuning\u001b[0m \u001b[1;33m=\u001b[0m \u001b[0my_pred\u001b[0m\u001b[1;33m\u001b[0m\u001b[1;33m\u001b[0m\u001b[0m\n\u001b[0;32m     16\u001b[0m     \u001b[0my_pred_tuning\u001b[0m \u001b[1;33m=\u001b[0m  \u001b[1;33m(\u001b[0m\u001b[0my_pred_tuning\u001b[0m\u001b[1;33m[\u001b[0m\u001b[1;33m:\u001b[0m\u001b[1;33m,\u001b[0m\u001b[1;36m1\u001b[0m\u001b[1;33m]\u001b[0m \u001b[1;33m>=\u001b[0m \u001b[0mthreshold\u001b[0m\u001b[1;33m)\u001b[0m\u001b[1;33m.\u001b[0m\u001b[0mastype\u001b[0m\u001b[1;33m(\u001b[0m\u001b[0mint\u001b[0m\u001b[1;33m)\u001b[0m\u001b[1;33m\u001b[0m\u001b[1;33m\u001b[0m\u001b[0m\n\u001b[1;32m---> 17\u001b[1;33m     \u001b[0mmetric_score\u001b[0m \u001b[1;33m=\u001b[0m \u001b[0mmetric\u001b[0m\u001b[1;33m(\u001b[0m\u001b[0my_train\u001b[0m\u001b[1;33m,\u001b[0m \u001b[0my_pred_tuning\u001b[0m\u001b[1;33m)\u001b[0m\u001b[1;33m\u001b[0m\u001b[1;33m\u001b[0m\u001b[0m\n\u001b[0m\u001b[0;32m     18\u001b[0m \u001b[1;33m\u001b[0m\u001b[0m\n\u001b[0;32m     19\u001b[0m     \u001b[1;32mif\u001b[0m \u001b[0mmetric_score\u001b[0m \u001b[1;33m>=\u001b[0m \u001b[0mmetric_best\u001b[0m\u001b[1;33m:\u001b[0m\u001b[1;33m\u001b[0m\u001b[1;33m\u001b[0m\u001b[0m\n",
      "\u001b[1;31mTypeError\u001b[0m: 'numpy.float64' object is not callable"
     ]
    }
   ],
   "source": [
    "y_pred = model_deep.predict(X_train)\n",
    "y_pred_tuning = y_pred\n",
    "\n",
    "amax = np.amax(y_pred_tuning[:,1])\n",
    "amin = np.amin(y_pred_tuning[:,1])\n",
    "print(amin)\n",
    "print(amax)\n",
    "\n",
    "thresholds_deep = np.arange(amin,amax,10**(-7))\n",
    "\n",
    "metric_best = -1\n",
    "threshold_best = 0\n",
    "\n",
    "for threshold in thresholds_deep:\n",
    "    y_pred_tuning = y_pred\n",
    "    y_pred_tuning =  (y_pred_tuning[:,1] >= threshold).astype(int)\n",
    "    metric_score = metric(y_train, y_pred_tuning)\n",
    "    \n",
    "    if metric_score >= metric_best:\n",
    "        metric_best = metric_score\n",
    "        threshold_best = threshold\n",
    "        \n",
    "print(f'metric_best:{metric_best}, threshold_best:{threshold_best}')"
   ]
  },
  {
   "cell_type": "code",
   "execution_count": null,
   "metadata": {
    "pycharm": {
     "is_executing": true
    }
   },
   "outputs": [],
   "source": [
    "y_pred = model_deep.predict(X_test)\n",
    "y_pred =  (y_pred[:,1] >= threshold_best).astype(int)\n",
    "accuracy = accuracy_score(y_test, y_pred)\n",
    "precision = precision_score(y_test, y_pred)\n",
    "recall = recall_score(y_test, y_pred)\n",
    "metric_score = metric(y_test, y_pred)\n",
    "print(f'metric:{metric_score}')\n",
    "print(f'accuracy:{accuracy}, 1-mean_Y:{1-np.average(y_test)}, precision:{precision}, recall:{recall}, threshold_best:{threshold_best}')"
   ]
  },
  {
   "cell_type": "markdown",
   "metadata": {},
   "source": [
    "## 7) Conclusion"
   ]
  },
  {
   "cell_type": "markdown",
   "metadata": {},
   "source": [
    "After preprocessing the data we tried various models and evaluated how each one performed on optimising the metric we defined for detecting credit default. After comparing them, we can conclude that our best model is ... with a metric score of ... (profit per capita/credit application).\n",
    "<br>\n",
    "Looking at other standard ML metrics for this best model, we have a precision of ... and a recall of .... The high recall and low precision highlight the necessity of finding the credit default as they are far more costly to the bank."
   ]
  }
 ],
 "metadata": {
  "kernelspec": {
   "display_name": "Python 3",
   "language": "python",
   "name": "python3"
  },
  "language_info": {
   "codemirror_mode": {
    "name": "ipython",
    "version": 3
   },
   "file_extension": ".py",
   "mimetype": "text/x-python",
   "name": "python",
   "nbconvert_exporter": "python",
   "pygments_lexer": "ipython3",
   "version": "3.7.7"
  },
  "pycharm": {
   "stem_cell": {
    "cell_type": "raw",
    "metadata": {
     "collapsed": false
    },
    "source": []
   }
  }
 },
 "nbformat": 4,
 "nbformat_minor": 1
}
